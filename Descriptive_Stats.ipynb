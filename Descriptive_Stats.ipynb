{
 "cells": [
  {
   "cell_type": "code",
   "execution_count": 1,
   "id": "87fb67a1",
   "metadata": {},
   "outputs": [],
   "source": [
    "import numpy as np\n",
    "import pandas as pd\n",
    "import os\n",
    "os.chdir('C:\\csv files')\n",
    "df=pd.read_csv('data.csv')"
   ]
  },
  {
   "cell_type": "code",
   "execution_count": 2,
   "id": "dcdb00bb",
   "metadata": {},
   "outputs": [
    {
     "data": {
      "text/html": [
       "<div>\n",
       "<style scoped>\n",
       "    .dataframe tbody tr th:only-of-type {\n",
       "        vertical-align: middle;\n",
       "    }\n",
       "\n",
       "    .dataframe tbody tr th {\n",
       "        vertical-align: top;\n",
       "    }\n",
       "\n",
       "    .dataframe thead th {\n",
       "        text-align: right;\n",
       "    }\n",
       "</style>\n",
       "<table border=\"1\" class=\"dataframe\">\n",
       "  <thead>\n",
       "    <tr style=\"text-align: right;\">\n",
       "      <th></th>\n",
       "      <th>Mthly_HH_Income</th>\n",
       "      <th>Mthly_HH_Expense</th>\n",
       "      <th>No_of_Fly_Members</th>\n",
       "      <th>Emi_or_Rent_Amt</th>\n",
       "      <th>Annual_HH_Income</th>\n",
       "      <th>Highest_Qualified_Member</th>\n",
       "      <th>No_of_Earning_Members</th>\n",
       "    </tr>\n",
       "  </thead>\n",
       "  <tbody>\n",
       "    <tr>\n",
       "      <th>0</th>\n",
       "      <td>5000</td>\n",
       "      <td>8000</td>\n",
       "      <td>3</td>\n",
       "      <td>2000</td>\n",
       "      <td>64200</td>\n",
       "      <td>Under-Graduate</td>\n",
       "      <td>1</td>\n",
       "    </tr>\n",
       "    <tr>\n",
       "      <th>1</th>\n",
       "      <td>6000</td>\n",
       "      <td>7000</td>\n",
       "      <td>2</td>\n",
       "      <td>3000</td>\n",
       "      <td>79920</td>\n",
       "      <td>Illiterate</td>\n",
       "      <td>1</td>\n",
       "    </tr>\n",
       "    <tr>\n",
       "      <th>2</th>\n",
       "      <td>10000</td>\n",
       "      <td>4500</td>\n",
       "      <td>2</td>\n",
       "      <td>0</td>\n",
       "      <td>112800</td>\n",
       "      <td>Under-Graduate</td>\n",
       "      <td>1</td>\n",
       "    </tr>\n",
       "    <tr>\n",
       "      <th>3</th>\n",
       "      <td>10000</td>\n",
       "      <td>2000</td>\n",
       "      <td>1</td>\n",
       "      <td>0</td>\n",
       "      <td>97200</td>\n",
       "      <td>Illiterate</td>\n",
       "      <td>1</td>\n",
       "    </tr>\n",
       "    <tr>\n",
       "      <th>4</th>\n",
       "      <td>12500</td>\n",
       "      <td>12000</td>\n",
       "      <td>2</td>\n",
       "      <td>3000</td>\n",
       "      <td>147000</td>\n",
       "      <td>Graduate</td>\n",
       "      <td>1</td>\n",
       "    </tr>\n",
       "  </tbody>\n",
       "</table>\n",
       "</div>"
      ],
      "text/plain": [
       "   Mthly_HH_Income  Mthly_HH_Expense  No_of_Fly_Members  Emi_or_Rent_Amt  \\\n",
       "0             5000              8000                  3             2000   \n",
       "1             6000              7000                  2             3000   \n",
       "2            10000              4500                  2                0   \n",
       "3            10000              2000                  1                0   \n",
       "4            12500             12000                  2             3000   \n",
       "\n",
       "   Annual_HH_Income Highest_Qualified_Member  No_of_Earning_Members  \n",
       "0             64200           Under-Graduate                      1  \n",
       "1             79920               Illiterate                      1  \n",
       "2            112800           Under-Graduate                      1  \n",
       "3             97200               Illiterate                      1  \n",
       "4            147000                 Graduate                      1  "
      ]
     },
     "execution_count": 2,
     "metadata": {},
     "output_type": "execute_result"
    }
   ],
   "source": [
    "df.head()"
   ]
  },
  {
   "cell_type": "markdown",
   "id": "263cf4d6",
   "metadata": {},
   "source": [
    "# Descriptive_Statistics\n"
   ]
  },
  {
   "cell_type": "markdown",
   "id": "f76e771f",
   "metadata": {},
   "source": [
    "It states that Describe the summary of data.\n"
   ]
  },
  {
   "cell_type": "markdown",
   "id": "0d92e295",
   "metadata": {},
   "source": [
    "Measure of central Tendency - mean,median,mode\n"
   ]
  },
  {
   "cell_type": "markdown",
   "id": "b639f100",
   "metadata": {},
   "source": [
    "Measure of spread-range,variance,std deviation"
   ]
  },
  {
   "cell_type": "markdown",
   "id": "36cc42c2",
   "metadata": {},
   "source": [
    "# Mean"
   ]
  },
  {
   "cell_type": "markdown",
   "id": "57204123",
   "metadata": {},
   "source": [
    "Mean is nothing but average, it is the ratio of sum of all observations and total number of observations in a dataset."
   ]
  },
  {
   "cell_type": "code",
   "execution_count": 5,
   "id": "5417b070",
   "metadata": {},
   "outputs": [
    {
     "data": {
      "text/html": [
       "<div>\n",
       "<style scoped>\n",
       "    .dataframe tbody tr th:only-of-type {\n",
       "        vertical-align: middle;\n",
       "    }\n",
       "\n",
       "    .dataframe tbody tr th {\n",
       "        vertical-align: top;\n",
       "    }\n",
       "\n",
       "    .dataframe thead th {\n",
       "        text-align: right;\n",
       "    }\n",
       "</style>\n",
       "<table border=\"1\" class=\"dataframe\">\n",
       "  <thead>\n",
       "    <tr style=\"text-align: right;\">\n",
       "      <th></th>\n",
       "      <th>Mthly_HH_Income</th>\n",
       "      <th>Mthly_HH_Expense</th>\n",
       "      <th>No_of_Fly_Members</th>\n",
       "      <th>Emi_or_Rent_Amt</th>\n",
       "      <th>Annual_HH_Income</th>\n",
       "      <th>No_of_Earning_Members</th>\n",
       "    </tr>\n",
       "  </thead>\n",
       "  <tbody>\n",
       "    <tr>\n",
       "      <th>count</th>\n",
       "      <td>50.000000</td>\n",
       "      <td>50.000000</td>\n",
       "      <td>50.000000</td>\n",
       "      <td>50.000000</td>\n",
       "      <td>5.000000e+01</td>\n",
       "      <td>50.000000</td>\n",
       "    </tr>\n",
       "    <tr>\n",
       "      <th>mean</th>\n",
       "      <td>41558.000000</td>\n",
       "      <td>18818.000000</td>\n",
       "      <td>4.060000</td>\n",
       "      <td>3060.000000</td>\n",
       "      <td>4.900190e+05</td>\n",
       "      <td>1.460000</td>\n",
       "    </tr>\n",
       "    <tr>\n",
       "      <th>std</th>\n",
       "      <td>26097.908979</td>\n",
       "      <td>12090.216824</td>\n",
       "      <td>1.517382</td>\n",
       "      <td>6241.434948</td>\n",
       "      <td>3.201358e+05</td>\n",
       "      <td>0.734291</td>\n",
       "    </tr>\n",
       "    <tr>\n",
       "      <th>min</th>\n",
       "      <td>5000.000000</td>\n",
       "      <td>2000.000000</td>\n",
       "      <td>1.000000</td>\n",
       "      <td>0.000000</td>\n",
       "      <td>6.420000e+04</td>\n",
       "      <td>1.000000</td>\n",
       "    </tr>\n",
       "    <tr>\n",
       "      <th>25%</th>\n",
       "      <td>23550.000000</td>\n",
       "      <td>10000.000000</td>\n",
       "      <td>3.000000</td>\n",
       "      <td>0.000000</td>\n",
       "      <td>2.587500e+05</td>\n",
       "      <td>1.000000</td>\n",
       "    </tr>\n",
       "    <tr>\n",
       "      <th>50%</th>\n",
       "      <td>35000.000000</td>\n",
       "      <td>15500.000000</td>\n",
       "      <td>4.000000</td>\n",
       "      <td>0.000000</td>\n",
       "      <td>4.474200e+05</td>\n",
       "      <td>1.000000</td>\n",
       "    </tr>\n",
       "    <tr>\n",
       "      <th>75%</th>\n",
       "      <td>50375.000000</td>\n",
       "      <td>25000.000000</td>\n",
       "      <td>5.000000</td>\n",
       "      <td>3500.000000</td>\n",
       "      <td>5.947200e+05</td>\n",
       "      <td>2.000000</td>\n",
       "    </tr>\n",
       "    <tr>\n",
       "      <th>max</th>\n",
       "      <td>100000.000000</td>\n",
       "      <td>50000.000000</td>\n",
       "      <td>7.000000</td>\n",
       "      <td>35000.000000</td>\n",
       "      <td>1.404000e+06</td>\n",
       "      <td>4.000000</td>\n",
       "    </tr>\n",
       "  </tbody>\n",
       "</table>\n",
       "</div>"
      ],
      "text/plain": [
       "       Mthly_HH_Income  Mthly_HH_Expense  No_of_Fly_Members  Emi_or_Rent_Amt  \\\n",
       "count        50.000000         50.000000          50.000000        50.000000   \n",
       "mean      41558.000000      18818.000000           4.060000      3060.000000   \n",
       "std       26097.908979      12090.216824           1.517382      6241.434948   \n",
       "min        5000.000000       2000.000000           1.000000         0.000000   \n",
       "25%       23550.000000      10000.000000           3.000000         0.000000   \n",
       "50%       35000.000000      15500.000000           4.000000         0.000000   \n",
       "75%       50375.000000      25000.000000           5.000000      3500.000000   \n",
       "max      100000.000000      50000.000000           7.000000     35000.000000   \n",
       "\n",
       "       Annual_HH_Income  No_of_Earning_Members  \n",
       "count      5.000000e+01              50.000000  \n",
       "mean       4.900190e+05               1.460000  \n",
       "std        3.201358e+05               0.734291  \n",
       "min        6.420000e+04               1.000000  \n",
       "25%        2.587500e+05               1.000000  \n",
       "50%        4.474200e+05               1.000000  \n",
       "75%        5.947200e+05               2.000000  \n",
       "max        1.404000e+06               4.000000  "
      ]
     },
     "execution_count": 5,
     "metadata": {},
     "output_type": "execute_result"
    }
   ],
   "source": [
    "df.describe()"
   ]
  },
  {
   "cell_type": "code",
   "execution_count": 8,
   "id": "1c000653",
   "metadata": {},
   "outputs": [
    {
     "data": {
      "text/plain": [
       "41558.0"
      ]
     },
     "execution_count": 8,
     "metadata": {},
     "output_type": "execute_result"
    }
   ],
   "source": [
    "df['Mthly_HH_Income'].mean()"
   ]
  },
  {
   "cell_type": "markdown",
   "id": "d87b6692",
   "metadata": {},
   "source": [
    "# Median"
   ]
  },
  {
   "cell_type": "markdown",
   "id": "d6dfb4c9",
   "metadata": {},
   "source": [
    "Median is middile value of dataset,when data arranged in ascending order."
   ]
  },
  {
   "cell_type": "code",
   "execution_count": 14,
   "id": "a71b4be2",
   "metadata": {},
   "outputs": [
    {
     "data": {
      "text/plain": [
       "35000.0"
      ]
     },
     "execution_count": 14,
     "metadata": {},
     "output_type": "execute_result"
    }
   ],
   "source": [
    "df['Mthly_HH_Income'].median()"
   ]
  },
  {
   "cell_type": "markdown",
   "id": "5f902052",
   "metadata": {},
   "source": [
    "# Mode"
   ]
  },
  {
   "cell_type": "markdown",
   "id": "48c6c0d5",
   "metadata": {},
   "source": [
    " Mode is defined as the value that has frequently occuring in dataset.The value appears in most of times."
   ]
  },
  {
   "cell_type": "code",
   "execution_count": 16,
   "id": "24d929eb",
   "metadata": {},
   "outputs": [
    {
     "data": {
      "text/plain": [
       "0    45000\n",
       "Name: Mthly_HH_Income, dtype: int64"
      ]
     },
     "execution_count": 16,
     "metadata": {},
     "output_type": "execute_result"
    }
   ],
   "source": [
    "df['Mthly_HH_Income'].mode()"
   ]
  },
  {
   "cell_type": "code",
   "execution_count": 19,
   "id": "1d551371",
   "metadata": {},
   "outputs": [
    {
     "name": "stdout",
     "output_type": "stream",
     "text": [
      "4.444444444444445\n",
      "4\n",
      "4\n"
     ]
    }
   ],
   "source": [
    "import statistics\n",
    "set1=[1,2,3,4,4,5,6,7,8]\n",
    "print(statistics.mean(set1))\n",
    "print(statistics.median(set1))\n",
    "print(statistics.mode(set1))"
   ]
  },
  {
   "cell_type": "markdown",
   "id": "03d59271",
   "metadata": {},
   "source": [
    "# Variance "
   ]
  },
  {
   "cell_type": "markdown",
   "id": "83e38a01",
   "metadata": {},
   "source": [
    "Variance is defined as the measure the variability from mean. Variance is caluculated by taking difference between each number in the dataset and mean and then squaring.\n",
    "s^2=∑(Xi−μ)2/n-1\n",
    "\n",
    "s=sample variance\n",
    "\n"
   ]
  },
  {
   "cell_type": "markdown",
   "id": "655f5c78",
   "metadata": {},
   "source": [
    "xi=value of 1 observation\n"
   ]
  },
  {
   "cell_type": "markdown",
   "id": "10381202",
   "metadata": {},
   "source": [
    "x=mean\n"
   ]
  },
  {
   "cell_type": "markdown",
   "id": "44f26bd3",
   "metadata": {},
   "source": [
    "n=no of observations"
   ]
  },
  {
   "cell_type": "code",
   "execution_count": 12,
   "id": "224d3316",
   "metadata": {},
   "outputs": [
    {
     "name": "stdout",
     "output_type": "stream",
     "text": [
      "8.8\n",
      "8.177777777777777\n"
     ]
    }
   ],
   "source": [
    "import statistics\n",
    "s=[3, 8, 6, 10, 12, 9, 11, 10, 12, 7]\n",
    "print(statistics.mean(s))\n",
    "print(statistics.variance(s))"
   ]
  },
  {
   "cell_type": "code",
   "execution_count": 13,
   "id": "be6517f1",
   "metadata": {},
   "outputs": [
    {
     "name": "stdout",
     "output_type": "stream",
     "text": [
      "Variance: 1.489795918367347\n",
      "Mean: 7.285714285714286\n",
      "Min: 4\n",
      "Max: 9\n",
      "Range: 5\n"
     ]
    }
   ],
   "source": [
    "variance_1 = [7,8,7,8,9,6,7,7,7,8,9,8,7,4]\n",
    "import numpy as np\n",
    "\n",
    "print(\"Variance:\", np.var(variance_1))\n",
    "print(\"Mean:\", np.mean(variance_1))\n",
    "print(\"Min:\", np.min(variance_1))\n",
    "print(\"Max:\", np.max(variance_1))\n",
    "print(\"Range:\", np.max(variance_1) - np.min(variance_1))"
   ]
  },
  {
   "cell_type": "code",
   "execution_count": 17,
   "id": "4f0a3bb3",
   "metadata": {},
   "outputs": [
    {
     "name": "stderr",
     "output_type": "stream",
     "text": [
      "C:\\Users\\Admin\\AppData\\Local\\Temp\\ipykernel_5476\\1568254755.py:1: FutureWarning: Dropping of nuisance columns in DataFrame reductions (with 'numeric_only=None') is deprecated; in a future version this will raise TypeError.  Select only valid columns before calling the reduction.\n",
      "  df.var()\n"
     ]
    },
    {
     "data": {
      "text/plain": [
       "Mthly_HH_Income          6.811009e+08\n",
       "Mthly_HH_Expense         1.461733e+08\n",
       "No_of_Fly_Members        2.302449e+00\n",
       "Emi_or_Rent_Amt          3.895551e+07\n",
       "Annual_HH_Income         1.024869e+11\n",
       "No_of_Earning_Members    5.391837e-01\n",
       "dtype: float64"
      ]
     },
     "execution_count": 17,
     "metadata": {},
     "output_type": "execute_result"
    }
   ],
   "source": [
    "df.var()"
   ]
  },
  {
   "cell_type": "markdown",
   "id": "12f7ec09",
   "metadata": {},
   "source": [
    "# Standard Deviation"
   ]
  },
  {
   "cell_type": "markdown",
   "id": "acac0e51",
   "metadata": {},
   "source": [
    "standard deviation is defined as the square root of vairance(deviation of values or data from the mean),lower standard deviation means values are closer to mean and higher means values are far from the mean."
   ]
  },
  {
   "cell_type": "markdown",
   "id": "36c1b0a5",
   "metadata": {},
   "source": [
    "Formula:-\n",
    "σ=√1N∑Ni=1(Xi−μ)2"
   ]
  },
  {
   "cell_type": "code",
   "execution_count": 18,
   "id": "0c89ffc2",
   "metadata": {},
   "outputs": [
    {
     "name": "stderr",
     "output_type": "stream",
     "text": [
      "C:\\Users\\Admin\\AppData\\Local\\Temp\\ipykernel_5476\\3390915376.py:1: FutureWarning: Dropping of nuisance columns in DataFrame reductions (with 'numeric_only=None') is deprecated; in a future version this will raise TypeError.  Select only valid columns before calling the reduction.\n",
      "  df.std()\n"
     ]
    },
    {
     "data": {
      "text/plain": [
       "Mthly_HH_Income           26097.908979\n",
       "Mthly_HH_Expense          12090.216824\n",
       "No_of_Fly_Members             1.517382\n",
       "Emi_or_Rent_Amt            6241.434948\n",
       "Annual_HH_Income         320135.792123\n",
       "No_of_Earning_Members         0.734291\n",
       "dtype: float64"
      ]
     },
     "execution_count": 18,
     "metadata": {},
     "output_type": "execute_result"
    }
   ],
   "source": [
    "df.std()"
   ]
  },
  {
   "cell_type": "markdown",
   "id": "c0f73ce6",
   "metadata": {},
   "source": [
    "# Correlation"
   ]
  },
  {
   "cell_type": "markdown",
   "id": "a494bab1",
   "metadata": {},
   "source": [
    "It is a statistical measure that indicates the relation between 2 continuous variables.(correlation coefficient values always lies between +1 to -1)positive correlation means relation between 2 variables change together and negative correlation means with change in opposite directions.No correlation means no relation b/w 2 variables."
   ]
  },
  {
   "cell_type": "markdown",
   "id": "f8ae997d",
   "metadata": {},
   "source": [
    "Formula:-\n",
    "    ρ (X,Y) = cov (X,Y) / σX.σY."
   ]
  },
  {
   "cell_type": "code",
   "execution_count": 19,
   "id": "5a2bab6b",
   "metadata": {},
   "outputs": [
    {
     "data": {
      "text/html": [
       "<div>\n",
       "<style scoped>\n",
       "    .dataframe tbody tr th:only-of-type {\n",
       "        vertical-align: middle;\n",
       "    }\n",
       "\n",
       "    .dataframe tbody tr th {\n",
       "        vertical-align: top;\n",
       "    }\n",
       "\n",
       "    .dataframe thead th {\n",
       "        text-align: right;\n",
       "    }\n",
       "</style>\n",
       "<table border=\"1\" class=\"dataframe\">\n",
       "  <thead>\n",
       "    <tr style=\"text-align: right;\">\n",
       "      <th></th>\n",
       "      <th>Mthly_HH_Income</th>\n",
       "      <th>Mthly_HH_Expense</th>\n",
       "      <th>No_of_Fly_Members</th>\n",
       "      <th>Emi_or_Rent_Amt</th>\n",
       "      <th>Annual_HH_Income</th>\n",
       "      <th>No_of_Earning_Members</th>\n",
       "    </tr>\n",
       "  </thead>\n",
       "  <tbody>\n",
       "    <tr>\n",
       "      <th>Mthly_HH_Income</th>\n",
       "      <td>1.000000</td>\n",
       "      <td>0.649215</td>\n",
       "      <td>0.448317</td>\n",
       "      <td>0.036976</td>\n",
       "      <td>0.970315</td>\n",
       "      <td>0.347883</td>\n",
       "    </tr>\n",
       "    <tr>\n",
       "      <th>Mthly_HH_Expense</th>\n",
       "      <td>0.649215</td>\n",
       "      <td>1.000000</td>\n",
       "      <td>0.639702</td>\n",
       "      <td>0.405280</td>\n",
       "      <td>0.591222</td>\n",
       "      <td>0.311915</td>\n",
       "    </tr>\n",
       "    <tr>\n",
       "      <th>No_of_Fly_Members</th>\n",
       "      <td>0.448317</td>\n",
       "      <td>0.639702</td>\n",
       "      <td>1.000000</td>\n",
       "      <td>0.085808</td>\n",
       "      <td>0.430868</td>\n",
       "      <td>0.597482</td>\n",
       "    </tr>\n",
       "    <tr>\n",
       "      <th>Emi_or_Rent_Amt</th>\n",
       "      <td>0.036976</td>\n",
       "      <td>0.405280</td>\n",
       "      <td>0.085808</td>\n",
       "      <td>1.000000</td>\n",
       "      <td>0.002716</td>\n",
       "      <td>-0.097431</td>\n",
       "    </tr>\n",
       "    <tr>\n",
       "      <th>Annual_HH_Income</th>\n",
       "      <td>0.970315</td>\n",
       "      <td>0.591222</td>\n",
       "      <td>0.430868</td>\n",
       "      <td>0.002716</td>\n",
       "      <td>1.000000</td>\n",
       "      <td>0.296679</td>\n",
       "    </tr>\n",
       "    <tr>\n",
       "      <th>No_of_Earning_Members</th>\n",
       "      <td>0.347883</td>\n",
       "      <td>0.311915</td>\n",
       "      <td>0.597482</td>\n",
       "      <td>-0.097431</td>\n",
       "      <td>0.296679</td>\n",
       "      <td>1.000000</td>\n",
       "    </tr>\n",
       "  </tbody>\n",
       "</table>\n",
       "</div>"
      ],
      "text/plain": [
       "                       Mthly_HH_Income  Mthly_HH_Expense  No_of_Fly_Members  \\\n",
       "Mthly_HH_Income               1.000000          0.649215           0.448317   \n",
       "Mthly_HH_Expense              0.649215          1.000000           0.639702   \n",
       "No_of_Fly_Members             0.448317          0.639702           1.000000   \n",
       "Emi_or_Rent_Amt               0.036976          0.405280           0.085808   \n",
       "Annual_HH_Income              0.970315          0.591222           0.430868   \n",
       "No_of_Earning_Members         0.347883          0.311915           0.597482   \n",
       "\n",
       "                       Emi_or_Rent_Amt  Annual_HH_Income  \\\n",
       "Mthly_HH_Income               0.036976          0.970315   \n",
       "Mthly_HH_Expense              0.405280          0.591222   \n",
       "No_of_Fly_Members             0.085808          0.430868   \n",
       "Emi_or_Rent_Amt               1.000000          0.002716   \n",
       "Annual_HH_Income              0.002716          1.000000   \n",
       "No_of_Earning_Members        -0.097431          0.296679   \n",
       "\n",
       "                       No_of_Earning_Members  \n",
       "Mthly_HH_Income                     0.347883  \n",
       "Mthly_HH_Expense                    0.311915  \n",
       "No_of_Fly_Members                   0.597482  \n",
       "Emi_or_Rent_Amt                    -0.097431  \n",
       "Annual_HH_Income                    0.296679  \n",
       "No_of_Earning_Members               1.000000  "
      ]
     },
     "execution_count": 19,
     "metadata": {},
     "output_type": "execute_result"
    }
   ],
   "source": [
    "df.corr()"
   ]
  },
  {
   "cell_type": "code",
   "execution_count": 20,
   "id": "d30df8f8",
   "metadata": {},
   "outputs": [
    {
     "data": {
      "text/plain": [
       "<AxesSubplot:>"
      ]
     },
     "execution_count": 20,
     "metadata": {},
     "output_type": "execute_result"
    },
    {
     "data": {
      "image/png": "[encoded data removed]",
      "text/plain": [
       "<Figure size 432x288 with 2 Axes>"
      ]
     },
     "metadata": {
      "needs_background": "light"
     },
     "output_type": "display_data"
    }
   ],
   "source": [
    "import seaborn as sns\n",
    "sns.heatmap(df.corr(),annot=True,cmap='Reds')"
   ]
  },
  {
   "cell_type": "markdown",
   "id": "8d5c1f31",
   "metadata": {},
   "source": [
    "# Normal Distribution "
   ]
  },
  {
   "cell_type": "markdown",
   "id": "30b6bb5e",
   "metadata": {},
   "source": [
    "It is a probability distribution and it is also known as Guassian distribution.\n",
    "it comes with perfectly symmetric shape means distribution curve divide in the middle to produce 2 equal halves \n",
    " and it looks bell shaped curve."
   ]
  },
  {
   "cell_type": "markdown",
   "id": "c381aead",
   "metadata": {},
   "source": [
    "Normal distribution is the most common continuous probability distribution."
   ]
  },
  {
   "cell_type": "markdown",
   "id": "a1f7728a",
   "metadata": {},
   "source": [
    "Normal distribution fallows the emphirical rule.\n"
   ]
  },
  {
   "cell_type": "markdown",
   "id": "0ae64072",
   "metadata": {},
   "source": [
    "The empirical rule tells you what percentage of your data falls within a certain number of standard deviations from the mean:\n"
   ]
  },
  {
   "cell_type": "markdown",
   "id": "25d7edbb",
   "metadata": {},
   "source": [
    "• 68% of the data falls within one standard deviation of the mean.\n",
    "• 95% of the data falls within two standard deviations of the mean.\n",
    "• 99.7% of the data falls within three standard deviations of the mean."
   ]
  },
  {
   "cell_type": "markdown",
   "id": "84fdda55",
   "metadata": {},
   "source": [
    "# Properties of normal distribution"
   ]
  },
  {
   "cell_type": "markdown",
   "id": "aaa2b962",
   "metadata": {},
   "source": [
    "the mean,mode,median all are equal.\n",
    "The mean-mode-median is in the center.\n",
    "It is the mean because it is the ARITHMETIC average of all the scores.\n",
    "It is the mode because of all the scores the mean score happens MOST often.\n",
    "It is the median because when the scores are displayed from lowest to highest, the mean is the MIDDLE score, the median.\n",
    "The EXPECTED value is the mean."
   ]
  },
  {
   "cell_type": "markdown",
   "id": "fce548ed",
   "metadata": {},
   "source": [
    "the curve is symmetric at the centre"
   ]
  },
  {
   "cell_type": "markdown",
   "id": "933318e4",
   "metadata": {},
   "source": [
    "the total area under the curve is 1"
   ]
  },
  {
   "cell_type": "markdown",
   "id": "fd268b98",
   "metadata": {},
   "source": [
    "Exactly half of the values are left and exactly half of the values are right"
   ]
  },
  {
   "cell_type": "markdown",
   "id": "72fb8dad",
   "metadata": {},
   "source": [
    "The frequency curve is bell shaped.\n",
    "The bell shape has perfect bilateral symmetry - the left balances exactly with the right.\n",
    "The score at -2 is balanced by a score at +2 and the frequencies from 0 to +2 and from 0 to -2 are equal.\n",
    "The area under the curve from 0 to +2 is exactly the same as the area under the curve from 0 to -2.\n",
    "Fifty percent of the scores are above the mean and 50% are below the mean."
   ]
  },
  {
   "cell_type": "markdown",
   "id": "3cf9f914",
   "metadata": {},
   "source": [
    "The probability a score is above the mean is 50% and the probability a score is below the mean is 50%.\n",
    "Most of the scores are in the middle, about the mean, and few are in the tails, at the extremes."
   ]
  },
  {
   "cell_type": "code",
   "execution_count": 24,
   "id": "a906eb98",
   "metadata": {},
   "outputs": [
    {
     "name": "stderr",
     "output_type": "stream",
     "text": [
      "C:\\Users\\Admin\\Anaconda3\\lib\\site-packages\\seaborn\\distributions.py:2619: FutureWarning: `distplot` is a deprecated function and will be removed in a future version. Please adapt your code to use either `displot` (a figure-level function with similar flexibility) or `histplot` (an axes-level function for histograms).\n",
      "  warnings.warn(msg, FutureWarning)\n"
     ]
    },
    {
     "data": {
      "image/png": "[encoded data removed]",
      "text/plain": [
       "<Figure size 432x288 with 1 Axes>"
      ]
     },
     "metadata": {
      "needs_background": "light"
     },
     "output_type": "display_data"
    }
   ],
   "source": [
    "import matplotlib.pyplot as plt\n",
    "sns.distplot(df['Mthly_HH_Income'])\n",
    "plt.show()"
   ]
  },
  {
   "cell_type": "code",
   "execution_count": 25,
   "id": "fe261499",
   "metadata": {},
   "outputs": [
    {
     "name": "stderr",
     "output_type": "stream",
     "text": [
      "C:\\Users\\Admin\\Anaconda3\\lib\\site-packages\\seaborn\\distributions.py:2619: FutureWarning: `distplot` is a deprecated function and will be removed in a future version. Please adapt your code to use either `displot` (a figure-level function with similar flexibility) or `histplot` (an axes-level function for histograms).\n",
      "  warnings.warn(msg, FutureWarning)\n"
     ]
    },
    {
     "data": {
      "image/png": "[encoded data removed]",
      "text/plain": [
       "<Figure size 432x288 with 1 Axes>"
      ]
     },
     "metadata": {
      "needs_background": "light"
     },
     "output_type": "display_data"
    }
   ],
   "source": [
    "sns.distplot(df['Annual_HH_Income'])\n",
    "plt.show()"
   ]
  },
  {
   "cell_type": "markdown",
   "id": "b4b51e94",
   "metadata": {},
   "source": [
    "# Positively Skewed and negative skewed in normal distribution"
   ]
  },
  {
   "cell_type": "markdown",
   "id": "126919e5",
   "metadata": {},
   "source": [
    "Skewness indicates the direction and relative magnitude of a distribution's deviation from the normal distribution."
   ]
  },
  {
   "cell_type": "markdown",
   "id": "8d6d7133",
   "metadata": {},
   "source": [
    "If one tail is longer than another, the distribution is skewed.\n",
    "These distributions are sometimes called asymmetric or asymmetrical distributions as they don’t show any kind of symmetry. \n",
    "Symmetry means that one half of the distribution is a mirror image of the other half. \n",
    "For example, the normal distribution is a symmetric distribution with no skew. The tails are exactly the same."
   ]
  },
  {
   "cell_type": "markdown",
   "id": "aaf6fedf",
   "metadata": {},
   "source": [
    "A left skewed distribution has long left tail. left skewed distributions are also called as negative skewed distributions.Right skewed distribution is opposite of left skewed right tail long."
   ]
  },
  {
   "cell_type": "markdown",
   "id": "1dbf5f8a",
   "metadata": {},
   "source": [
    "In a normal distribution, the mean and the median are the same number while the mean and median in a skewed distribution become different numbers:\n",
    "\n",
    "A left-skewed, negative distribution will have the mean to the left of the median.\n",
    "A right-skewed distribution will have the mean to the right of the median."
   ]
  },
  {
   "cell_type": "markdown",
   "id": "8bb0aa48",
   "metadata": {},
   "source": [
    "Formula:-\n",
    "Skew = 3 * (Mean – Median) / Standard Deviation. \n"
   ]
  },
  {
   "cell_type": "markdown",
   "id": "90f71aba",
   "metadata": {},
   "source": [
    "# QQ Plots"
   ]
  },
  {
   "cell_type": "markdown",
   "id": "801b4902",
   "metadata": {},
   "source": [
    "Quantile Quantile plots are plots of 2 quantiles against each other.A quantile is a fraction where certain values fall below that quantile. "
   ]
  },
  {
   "cell_type": "markdown",
   "id": "2bf0dd6e",
   "metadata": {},
   "source": [
    "This type of plots used  to determine wheather or not set of data fallows normal distribution."
   ]
  },
  {
   "cell_type": "code",
   "execution_count": 26,
   "id": "a919c816",
   "metadata": {},
   "outputs": [],
   "source": [
    "import numpy as np\n",
    "\n",
    "#create dataset with 100 values that follow a normal distribution\n",
    "np.random.seed(0)\n",
    "data = np.random.normal(0,1, 1000)\n"
   ]
  },
  {
   "cell_type": "code",
   "execution_count": 27,
   "id": "cedadef0",
   "metadata": {},
   "outputs": [
    {
     "data": {
      "text/plain": [
       "array([ 1.76405235,  0.40015721,  0.97873798,  2.2408932 ,  1.86755799,\n",
       "       -0.97727788,  0.95008842, -0.15135721, -0.10321885,  0.4105985 ])"
      ]
     },
     "execution_count": 27,
     "metadata": {},
     "output_type": "execute_result"
    }
   ],
   "source": [
    "data[:10]"
   ]
  },
  {
   "cell_type": "code",
   "execution_count": 28,
   "id": "b5fd2279",
   "metadata": {},
   "outputs": [
    {
     "data": {
      "image/png": "[encoded data removed]",
      "text/plain": [
       "<Figure size 432x288 with 1 Axes>"
      ]
     },
     "metadata": {
      "needs_background": "light"
     },
     "output_type": "display_data"
    }
   ],
   "source": [
    "import statsmodels.api as sm\n",
    "import matplotlib.pyplot as plt\n",
    "\n",
    "#create Q-Q plot with 45-degree line added to plot\n",
    "fig = sm.qqplot(data, line='45')\n",
    "plt.show()"
   ]
  },
  {
   "cell_type": "markdown",
   "id": "98ef0353",
   "metadata": {},
   "source": [
    "In a Q-Q plot, the x-axis displays the theoretical quantiles"
   ]
  },
  {
   "cell_type": "markdown",
   "id": "670daac1",
   "metadata": {},
   "source": [
    "The y-axis displays your actual data."
   ]
  },
  {
   "cell_type": "markdown",
   "id": "cb5e6f8e",
   "metadata": {},
   "source": [
    "We can see in our Q-Q plot above that the data values tend to closely follow the 45-degree, which means the data is likely normally distributed."
   ]
  },
  {
   "cell_type": "code",
   "execution_count": 29,
   "id": "98e5dabc",
   "metadata": {},
   "outputs": [
    {
     "data": {
      "image/png": "[encoded data removed]",
      "text/plain": [
       "<Figure size 432x288 with 1 Axes>"
      ]
     },
     "metadata": {
      "needs_background": "light"
     },
     "output_type": "display_data"
    }
   ],
   "source": [
    "#create dataset of 100 uniformally distributed values\n",
    "data = np.random.uniform(0,1, 1000)\n",
    "\n",
    "#generate Q-Q plot for the dataset\n",
    "fig = sm.qqplot(data, line='45')\n",
    "plt.show()"
   ]
  },
  {
   "cell_type": "markdown",
   "id": "0febbcf0",
   "metadata": {},
   "source": [
    "Although a Q-Q plot isn’t a formal statistical test, it offers an easy way to visually check whether or not a data set is normally distributed."
   ]
  },
  {
   "cell_type": "markdown",
   "id": "596a37f7",
   "metadata": {},
   "source": [
    "# Box cox"
   ]
  },
  {
   "cell_type": "markdown",
   "id": "5ae9983c",
   "metadata": {},
   "source": [
    "SciPy's stats package provides a function called boxcox for performing box-cox power transformation that takes in original non-normal data as input and returns fitted data along with the lambda value that was used to fit the non-normal distribution to normal distribution."
   ]
  },
  {
   "cell_type": "code",
   "execution_count": 30,
   "id": "e995fce7",
   "metadata": {},
   "outputs": [
    {
     "name": "stderr",
     "output_type": "stream",
     "text": [
      "C:\\Users\\Admin\\Anaconda3\\lib\\site-packages\\seaborn\\distributions.py:2619: FutureWarning: `distplot` is a deprecated function and will be removed in a future version. Please adapt your code to use either `displot` (a figure-level function with similar flexibility) or `kdeplot` (an axes-level function for kernel density plots).\n",
      "  warnings.warn(msg, FutureWarning)\n",
      "C:\\Users\\Admin\\Anaconda3\\lib\\site-packages\\seaborn\\distributions.py:2619: FutureWarning: `distplot` is a deprecated function and will be removed in a future version. Please adapt your code to use either `displot` (a figure-level function with similar flexibility) or `kdeplot` (an axes-level function for kernel density plots).\n",
      "  warnings.warn(msg, FutureWarning)\n"
     ]
    },
    {
     "name": "stdout",
     "output_type": "stream",
     "text": [
      "Lambda value used for Transformation: 0.24695066644078217\n"
     ]
    },
    {
     "data": {
      "image/png": "[encoded data removed]",
      "text/plain": [
       "<Figure size 720x360 with 2 Axes>"
      ]
     },
     "metadata": {
      "needs_background": "light"
     },
     "output_type": "display_data"
    }
   ],
   "source": [
    "import numpy as np\n",
    "from scipy import stats\n",
    " \n",
    "# plotting modules\n",
    "import seaborn as sns\n",
    "import matplotlib.pyplot as plt\n",
    " \n",
    "# generate non-normal data (exponential)\n",
    "original_data = np.random.exponential(size = 1000)\n",
    " \n",
    "# transform training data & save lambda value\n",
    "fitted_data, fitted_lambda = stats.boxcox(original_data)\n",
    " \n",
    "# creating axes to draw plots\n",
    "fig, ax = plt.subplots(1, 2)\n",
    " \n",
    "# plotting the original data(non-normal) and\n",
    "# fitted data (normal)\n",
    "sns.distplot(original_data, hist = False, kde = True,\n",
    "            kde_kws = {'shade': True, 'linewidth': 2},\n",
    "            label = \"Non-Normal\", color =\"green\", ax = ax[0])\n",
    " \n",
    "sns.distplot(fitted_data, hist = False, kde = True,\n",
    "            kde_kws = {'shade': True, 'linewidth': 2},\n",
    "            label = \"Normal\", color =\"green\", ax = ax[1])\n",
    " \n",
    "# adding legends to the subplots\n",
    "plt.legend(loc = \"upper right\")\n",
    " \n",
    "# rescaling the subplots\n",
    "fig.set_figheight(5)\n",
    "fig.set_figwidth(10)\n",
    " \n",
    "print(f\"Lambda value used for Transformation: {fitted_lambda}\")"
   ]
  },
  {
   "cell_type": "code",
   "execution_count": null,
   "id": "33473478",
   "metadata": {},
   "outputs": [],
   "source": []
  }
 ],
 "metadata": {
  "kernelspec": {
   "display_name": "Python 3 (ipykernel)",
   "language": "python",
   "name": "python3"
  },
  "language_info": {
   "codemirror_mode": {
    "name": "ipython",
    "version": 3
   },
   "file_extension": ".py",
   "mimetype": "text/x-python",
   "name": "python",
   "nbconvert_exporter": "python",
   "pygments_lexer": "ipython3",
   "version": "3.9.12"
  }
 },
 "nbformat": 4,
 "nbformat_minor": 5
}
